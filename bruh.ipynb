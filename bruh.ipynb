{
 "cells": [
  {
   "cell_type": "markdown",
   "metadata": {},
   "source": [
    "1"
   ]
  },
  {
   "cell_type": "code",
   "execution_count": null,
   "metadata": {},
   "outputs": [],
   "source": [
    "n = int(input())\n",
    "p = int(input())\n",
    "print( p % n )"
   ]
  },
  {
   "cell_type": "markdown",
   "metadata": {},
   "source": [
    "2\n"
   ]
  },
  {
   "cell_type": "code",
   "execution_count": null,
   "metadata": {},
   "outputs": [],
   "source": [
    "d = int(input())\n",
    "t = input()\n",
    "l = input()\n",
    "if l == \"LOOSE\" or t == \"LOOSE\":\n",
    "  print(d+5)\n",
    "elif t == \"UNTUCKED\" or l == \"UNTUCKED\":\n",
    "  print(d)"
   ]
  },
  {
   "cell_type": "markdown",
   "metadata": {},
   "source": [
    "3"
   ]
  },
  {
   "cell_type": "code",
   "execution_count": null,
   "metadata": {},
   "outputs": [],
   "source": [
    "dee = ['a', 'b', 'c', 'd', 'e', 'f', 'g', 'h', 'i', 'j', 'k', 'l', 'm', 'n', 'o', 'p', 'q', 'r', 's', 't', 'u', 'v', 'w', 'x', 'y', 'z', 'A', 'B', 'C', 'D', 'E', 'F', 'G', 'H', 'I', 'J', 'K', 'L', 'M', 'N', 'O', 'P', 'Q', 'R', 'S', 'T', 'U', 'V', 'W', 'X', 'Y', 'Z']\n",
    "a = input()\n",
    "if a == 'a':\n",
    "  print(a)\n",
    "else:\n",
    "  print(dee[dee.index(a) -1])"
   ]
  },
  {
   "cell_type": "markdown",
   "metadata": {},
   "source": [
    "4"
   ]
  },
  {
   "cell_type": "code",
   "execution_count": null,
   "metadata": {},
   "outputs": [],
   "source": [
    "br = [\"A\", \"2\", \"3\", \"4\", \"5\", \"6\", \"7\", \"8\", \"9\", \"T\", \"J\", \"Q\", \"K\"]\n",
    "x = 0\n",
    "t = 0\n",
    "while True:\n",
    "  t += 1 \n",
    "  c = input()\n",
    "  x += br.index(c) + 1\n",
    "  if x >= 7 * t:\n",
    "    continue\n",
    "  else:\n",
    "    break\n",
    "print(t*10)\n",
    "  "
   ]
  },
  {
   "cell_type": "markdown",
   "metadata": {},
   "source": [
    "5"
   ]
  },
  {
   "cell_type": "code",
   "execution_count": null,
   "metadata": {},
   "outputs": [],
   "source": [
    "eNo = int(input())\n",
    "f = []\n",
    "c = []\n",
    "s = []\n",
    "for i in range(eNo):\n",
    "    inp = input()\n",
    "    temp = inp.split()\n",
    "    f.append(temp[0])\n",
    "    c.append(int(temp[1]))\n",
    "    s.append(int(temp[1])*2 + int(temp[2]))\n",
    "\n",
    "if s.count(max(s)) >= 2:\n",
    "  print(f[c.index(max(c))])\n",
    "else:\n",
    "  print(f[s.index(max(s))])"
   ]
  },
  {
   "cell_type": "markdown",
   "metadata": {},
   "source": [
    "6\n"
   ]
  },
  {
   "cell_type": "code",
   "execution_count": null,
   "metadata": {},
   "outputs": [],
   "source": [
    "def leftRotate(arg, n):\n",
    "    main = arg\n",
    "    for _ in range(n):\n",
    "        l = main[0]\n",
    "        main = main[1:]\n",
    "        main = main + l\n",
    "    return main\n",
    "ar = input()\n",
    "n = int(input())\n",
    "out = ''\n",
    "\n",
    "for i in range(len(ar)):\n",
    "    ar = leftRotate(ar, n)\n",
    "    out += ar[0]\n",
    "    ar = ar[1:]\n",
    "\n",
    "print(out)\n",
    "\n",
    "\n"
   ]
  },
  {
   "cell_type": "markdown",
   "metadata": {},
   "source": [
    "7"
   ]
  },
  {
   "cell_type": "code",
   "execution_count": 24,
   "metadata": {},
   "outputs": [
    {
     "name": "stdout",
     "output_type": "stream",
     "text": [
      "48\n"
     ]
    }
   ],
   "source": [
    "n = int(input())\n",
    "m = int(input())\n",
    "grid = []\n",
    "products = []\n",
    "for _ in range(m):\n",
    "    u = input().replace(\" \", \"\")\n",
    "    row = list(map(int, u))\n",
    "    grid.append(row)\n",
    "\n",
    "for y in range(len(grid)):\n",
    "    if y + 1 == len(grid):\n",
    "        break\n",
    "    else:\n",
    "        for x in range(len(grid[y])):\n",
    "            if x == 0:\n",
    "                products.append(grid[y][x]*grid[y+1][x+1])\n",
    "            elif x + 1 == len(grid[y]):\n",
    "                products.append(grid[y][x]*grid[y+1][x-1])\n",
    "            else:\n",
    "                products.append(grid[y][x]*grid[y+1][x+1])\n",
    "                products.append(grid[y][x]*grid[y+1][x-1])\n",
    "\n",
    "print(max(products))\n",
    "\n",
    "\n",
    "\n"
   ]
  }
 ],
 "metadata": {
  "interpreter": {
   "hash": "7f70d28b2a4156f00ddafa49087f84412ef24681b15dcf4f6132f7ab1eda5d46"
  },
  "kernelspec": {
   "display_name": "Python 3.9.7 64-bit ('.env': venv)",
   "language": "python",
   "name": "python3"
  },
  "language_info": {
   "codemirror_mode": {
    "name": "ipython",
    "version": 3
   },
   "file_extension": ".py",
   "mimetype": "text/x-python",
   "name": "python",
   "nbconvert_exporter": "python",
   "pygments_lexer": "ipython3",
   "version": "3.9.6"
  },
  "orig_nbformat": 4
 },
 "nbformat": 4,
 "nbformat_minor": 2
}
