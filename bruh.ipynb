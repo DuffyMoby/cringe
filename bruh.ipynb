{
 "cells": [
  {
   "cell_type": "code",
   "execution_count": null,
   "metadata": {},
   "outputs": [],
   "source": [
    "n = int(input())\n",
    "p = int(input())\n",
    "print( p % n )"
   ]
  },
  {
   "cell_type": "code",
   "execution_count": null,
   "metadata": {},
   "outputs": [],
   "source": [
    "d = int(input())\n",
    "t = input()\n",
    "l = input()\n",
    "if l == \"LOOSE\" or t == \"LOOSE\":\n",
    "  print(d+5)\n",
    "elif t == \"UNTUCKED\" or l == \"UNTUCKED\":\n",
    "  print(d)"
   ]
  },
  {
   "cell_type": "code",
   "execution_count": 2,
   "metadata": {},
   "outputs": [
    {
     "name": "stdout",
     "output_type": "stream",
     "text": [
      "Y\n"
     ]
    }
   ],
   "source": [
    "dee = ['a', 'b', 'c', 'd', 'e', 'f', 'g', 'h', 'i', 'j', 'k', 'l', 'm', 'n', 'o', 'p', 'q', 'r', 's', 't', 'u', 'v', 'w', 'x', 'y', 'z', 'A', 'B', 'C', 'D', 'E', 'F', 'G', 'H', 'I', 'J', 'K', 'L', 'M', 'N', 'O', 'P', 'Q', 'R', 'S', 'T', 'U', 'V', 'W', 'X', 'Y', 'Z']\n",
    "a = input()\n",
    "if a == 'a':\n",
    "  print(a)\n",
    "else:\n",
    "  print(dee[dee.index(a) -1])"
   ]
  },
  {
   "cell_type": "code",
   "execution_count": null,
   "metadata": {},
   "outputs": [],
   "source": [
    "br = [\"A\", \"2\", \"3\", \"4\", \"5\", \"6\", \"7\", \"8\", \"9\", \"T\", \"J\", \"Q\", \"K\"]\n",
    "x = 0\n",
    "t = 0\n",
    "while True:\n",
    "  t += 1 \n",
    "  c = input()\n",
    "  x += br.index(c) + 1\n",
    "  if x >= 7 * t:\n",
    "    continue\n",
    "  else:\n",
    "    break\n",
    "print(t*10)\n",
    "  "
   ]
  }
 ],
 "metadata": {
  "interpreter": {
   "hash": "7f70d28b2a4156f00ddafa49087f84412ef24681b15dcf4f6132f7ab1eda5d46"
  },
  "kernelspec": {
   "display_name": "Python 3.9.7 64-bit ('.env': venv)",
   "language": "python",
   "name": "python3"
  },
  "language_info": {
   "codemirror_mode": {
    "name": "ipython",
    "version": 3
   },
   "file_extension": ".py",
   "mimetype": "text/x-python",
   "name": "python",
   "nbconvert_exporter": "python",
   "pygments_lexer": "ipython3",
   "version": "3.9.7"
  },
  "orig_nbformat": 4
 },
 "nbformat": 4,
 "nbformat_minor": 2
}
